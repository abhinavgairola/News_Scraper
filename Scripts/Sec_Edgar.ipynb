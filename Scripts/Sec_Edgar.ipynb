{
  "nbformat": 4,
  "nbformat_minor": 0,
  "metadata": {
    "colab": {
      "name": "Sec-Edgar.ipynb",
      "provenance": [],
      "collapsed_sections": [],
      "authorship_tag": "ABX9TyOzGnaklaWLAizK2fUn8gD7",
      "include_colab_link": true
    },
    "kernelspec": {
      "name": "python3",
      "display_name": "Python 3"
    }
  },
  "cells": [
    {
      "cell_type": "markdown",
      "metadata": {
        "id": "view-in-github",
        "colab_type": "text"
      },
      "source": [
        "<a href=\"https://colab.research.google.com/github/abhinavgairola/News_Scraper/blob/master/Sec_Edgar.ipynb\" target=\"_parent\"><img src=\"https://colab.research.google.com/assets/colab-badge.svg\" alt=\"Open In Colab\"/></a>"
      ]
    },
    {
      "cell_type": "markdown",
      "metadata": {
        "id": "N-bKF4NuBd56"
      },
      "source": [
        "### **A webscraper file to parse master file of SEC database. The base idea of the scraper is explained in this youtube link <a href=\"https://www.youtube.com/watch?v=eut8-iOiJ_Q&list=PLcFcktZ0wnNl5X7Qn1JM4jhrIOBsNj1qa&index=2\"> Python-Finance-SEC</a>. However, I have given it my own spin and used beautifulsoup and only extracted the masterfile. The scraper will automatically create yearly and quarterly folders and parse the masterfiles as txt. This can be loaded in pandas using standard pandas functions such as read_table. Additionaly it has the ability to extract the CIK number too.**\n",
        "\n"
      ]
    },
    {
      "cell_type": "code",
      "metadata": {
        "colab": {
          "base_uri": "https://localhost:8080/"
        },
        "id": "KM7_A5C4P0hN",
        "outputId": "4437a447-d549-429c-cfb2-7aa3ede91443"
      },
      "source": [
        "import requests\n",
        "import re\n",
        "from bs4 import BeautifulSoup\n",
        "import pandas as pd\n",
        "import os\n",
        "from google.colab import drive\n",
        "drive.mount('/content/drive')\n"
      ],
      "execution_count": null,
      "outputs": [
        {
          "output_type": "stream",
          "text": [
            "Mounted at /content/drive\n"
          ],
          "name": "stdout"
        }
      ]
    },
    {
      "cell_type": "code",
      "metadata": {
        "id": "CRM0yH1-RB_2"
      },
      "source": [
        "#CIK={}&Find=Search&owner=exclude&action=getcompany'\n",
        "def CIK_extracter(TKS,payload_):\n",
        "  \"\"\"\n",
        "  A method to extract CIK numbers for the company tickers.\n",
        "  @Input:--Ticker name.\n",
        "  @Input:---And the payload dictionary with the various attributes for example:\n",
        "  {'CIK': None, 'Find': 'Search','owner':'exclude','action':'getcompany'}\n",
        "  @Output:-- CIK number.\n",
        "  \"\"\"\n",
        "  URL = 'http://www.sec.gov/cgi-bin/browse-edgar?'\n",
        "  CIK = re.compile(r'CIK=(\\d\\d\\d\\d\\d\\d\\d\\d\\d\\d)')\n",
        "  CIK_number = {}\n",
        "  for tickers in TKS:\n",
        "    payload_['CIK']=tickers\n",
        "    html_doc=requests.get(URL, params=payload_).text\n",
        "    print(requests.get(URL, params=payload_).url)\n",
        "    soup = BeautifulSoup(html_doc, 'html.parser')\n",
        "    for link in (soup.findAll('a')):\n",
        "      results= (re.findall(CIK,link.get('href')))\n",
        "      if results:\n",
        "        CIK_number[tickers]=(results[0])\n",
        "\n",
        "\n",
        "  print(CIK_number)\n",
        "  return CIK_number"
      ],
      "execution_count": null,
      "outputs": []
    },
    {
      "cell_type": "markdown",
      "metadata": {
        "id": "X60wTpr0ULnC"
      },
      "source": [
        "###**A Central Index Key or CIK number is a number given to an individual, company, or foreign government by the United States Securities and Exchange Commission. The number is used to identify its filings in several online databases, including EDGAR. The numbers are ten digits in length.**"
      ]
    },
    {
      "cell_type": "code",
      "metadata": {
        "colab": {
          "base_uri": "https://localhost:8080/",
          "height": 398
        },
        "id": "MsLH-JQMyu0V",
        "outputId": "da262d8e-33ff-4a8e-9253-2f818369257d"
      },
      "source": [
        "Tech_Tickers = ['goog', 'aapl','amzn','msft','fb','nvda','yelp']\n",
        "payload = {'CIK': None, 'Find': 'Search','owner':'exclude','action':'getcompany'}\n",
        "CIK_ticks_mapping = CIK_extracter(Tech_Tickers,payload)\n",
        "CIK_df = pd.DataFrame(CIK_ticks_mapping,index=[0])\n",
        "CIK_df_T = CIK_df.T.reset_index().rename(columns={'index':'Tickers',0:'CIK'})\n",
        "CIK_df_T\n",
        "\n"
      ],
      "execution_count": null,
      "outputs": [
        {
          "output_type": "stream",
          "text": [
            "https://www.sec.gov/cgi-bin/browse-edgar?CIK=goog&Find=Search&owner=exclude&action=getcompany\n",
            "https://www.sec.gov/cgi-bin/browse-edgar?CIK=aapl&Find=Search&owner=exclude&action=getcompany\n",
            "https://www.sec.gov/cgi-bin/browse-edgar?CIK=amzn&Find=Search&owner=exclude&action=getcompany\n",
            "https://www.sec.gov/cgi-bin/browse-edgar?CIK=msft&Find=Search&owner=exclude&action=getcompany\n",
            "https://www.sec.gov/cgi-bin/browse-edgar?CIK=fb&Find=Search&owner=exclude&action=getcompany\n",
            "https://www.sec.gov/cgi-bin/browse-edgar?CIK=nvda&Find=Search&owner=exclude&action=getcompany\n",
            "https://www.sec.gov/cgi-bin/browse-edgar?CIK=yelp&Find=Search&owner=exclude&action=getcompany\n",
            "{'goog': '0001652044', 'aapl': '0000320193', 'amzn': '0001018724', 'msft': '0000789019', 'fb': '0001326801', 'nvda': '0001045810', 'yelp': '0001345016'}\n"
          ],
          "name": "stdout"
        },
        {
          "output_type": "execute_result",
          "data": {
            "text/html": [
              "<div>\n",
              "<style scoped>\n",
              "    .dataframe tbody tr th:only-of-type {\n",
              "        vertical-align: middle;\n",
              "    }\n",
              "\n",
              "    .dataframe tbody tr th {\n",
              "        vertical-align: top;\n",
              "    }\n",
              "\n",
              "    .dataframe thead th {\n",
              "        text-align: right;\n",
              "    }\n",
              "</style>\n",
              "<table border=\"1\" class=\"dataframe\">\n",
              "  <thead>\n",
              "    <tr style=\"text-align: right;\">\n",
              "      <th></th>\n",
              "      <th>Tickers</th>\n",
              "      <th>CIK</th>\n",
              "    </tr>\n",
              "  </thead>\n",
              "  <tbody>\n",
              "    <tr>\n",
              "      <th>0</th>\n",
              "      <td>goog</td>\n",
              "      <td>0001652044</td>\n",
              "    </tr>\n",
              "    <tr>\n",
              "      <th>1</th>\n",
              "      <td>aapl</td>\n",
              "      <td>0000320193</td>\n",
              "    </tr>\n",
              "    <tr>\n",
              "      <th>2</th>\n",
              "      <td>amzn</td>\n",
              "      <td>0001018724</td>\n",
              "    </tr>\n",
              "    <tr>\n",
              "      <th>3</th>\n",
              "      <td>msft</td>\n",
              "      <td>0000789019</td>\n",
              "    </tr>\n",
              "    <tr>\n",
              "      <th>4</th>\n",
              "      <td>fb</td>\n",
              "      <td>0001326801</td>\n",
              "    </tr>\n",
              "    <tr>\n",
              "      <th>5</th>\n",
              "      <td>nvda</td>\n",
              "      <td>0001045810</td>\n",
              "    </tr>\n",
              "    <tr>\n",
              "      <th>6</th>\n",
              "      <td>yelp</td>\n",
              "      <td>0001345016</td>\n",
              "    </tr>\n",
              "  </tbody>\n",
              "</table>\n",
              "</div>"
            ],
            "text/plain": [
              "  Tickers         CIK\n",
              "0    goog  0001652044\n",
              "1    aapl  0000320193\n",
              "2    amzn  0001018724\n",
              "3    msft  0000789019\n",
              "4      fb  0001326801\n",
              "5    nvda  0001045810\n",
              "6    yelp  0001345016"
            ]
          },
          "metadata": {
            "tags": []
          },
          "execution_count": 6
        }
      ]
    },
    {
      "cell_type": "code",
      "metadata": {
        "id": "I7h8xltd78u-"
      },
      "source": [
        "def url_generator(base_url,comp):\n",
        "  url = base_url\n",
        "\n",
        "  for r in comp:\n",
        "    url = '{}/{}'.format(url,r)\n",
        "  return url"
      ],
      "execution_count": null,
      "outputs": []
    },
    {
      "cell_type": "code",
      "metadata": {
        "id": "uZ6uD7tW8LeT"
      },
      "source": [
        "def data_downloader(years):\n",
        "  \"\"\"\n",
        "  A completely automatic SEC edgars data masterfile parser. This file contains\n",
        "  a number of information such as the company name, form file and the url to the\n",
        "  form.\n",
        "  @Input:--A list of years for which the master file is needed.\n",
        "  @output:-- Year and quarter wise folders on google colab with the master file.\n",
        "  \"\"\"\n",
        "  if os.path.isdir('/content/drive/MyDrive/Master_files')==True:\n",
        "    !rm -r /content/drive/MyDrive/Master_files\n",
        "\n",
        "  base_url = r'https://www.sec.gov/Archives/edgar/daily-index'\n",
        "  for year in years:\n",
        "    link___ = '/content/drive/MyDrive/Master_files/'+year\n",
        "    if os.path.isdir(link___) == False:\n",
        "      link__ = '/content/drive/MyDrive/Master_files/{}/'.format(year)\n",
        "      os.makedirs(link__)\n",
        "    year_url = url_generator(base_url, [year, 'index.json'])\n",
        "    year_url\n",
        "    content = requests.get(year_url).json()\n",
        "    content\n",
        "    for item in content['directory']['item']:\n",
        "      print('='*200)\n",
        "      link____= '/content/drive/MyDrive/Master_files/{}'.format(year)+'/'+item['name']+'/'\n",
        "      if os.path.isdir(link____) == False:\n",
        "        temp_if = item['name']\n",
        "        link_ = '/content/drive/MyDrive/Master_files/'+year+'/'+temp_if+'/'\n",
        "        os.makedirs(link_)\n",
        "      print('Extracting the data for {}'.format(item['name']))\n",
        "\n",
        "      qtr_url = url_generator(base_url,[year,item['name'],'index.json'])\n",
        "      print('='*200)\n",
        "      print(item['name']+' url is {}'.format(qtr_url))\n",
        "      print('='*200)\n",
        "      content_qtr = requests.get(qtr_url).json()\n",
        "      #print(\"Content is {}\".format(content_qtr))\n",
        "      counter = 0\n",
        "      for file in content_qtr['directory']['item']:\n",
        "        if (file['name'].partition('.')[0]) == 'master':\n",
        "          file_url = url_generator(base_url, [year,item['name'],file['name']])\n",
        "          print(file_url)     \n",
        "          data = requests.get(file_url)\n",
        "          #print(\"This is data\",type(data))\n",
        "          open('/content/drive/MyDrive/Master_files/'+year+'/'+item['name']+'/'+file['name'].partition('.')[0]+file['name'].partition('.')[2].partition('.')[0]+'.txt','wb').write(data.content)\n",
        "          counter +=1"
      ],
      "execution_count": null,
      "outputs": []
    },
    {
      "cell_type": "code",
      "metadata": {
        "colab": {
          "base_uri": "https://localhost:8080/"
        },
        "id": "AUK6-j2G7MDA",
        "outputId": "a83a233a-4d23-4c8a-ae91-3211019c0df2"
      },
      "source": [
        "YEARS = [str(num) for num in range(2005,2016)]\n",
        "print(YEARS)\n",
        "data_downloader(YEARS)\n",
        "#YEARS\n",
        "#file['name'].replace('.idx',\"\")"
      ],
      "execution_count": null,
      "outputs": [
        {
          "output_type": "stream",
          "text": [
            "['2005', '2006', '2007', '2008', '2009', '2010', '2011', '2012', '2013', '2014', '2015']\n",
            "========================================================================================================================================================================================================\n",
            "Extracting the data for QTR1\n",
            "========================================================================================================================================================================================================\n",
            "QTR1 url is https://www.sec.gov/Archives/edgar/daily-index/2005/QTR1/index.json\n",
            "========================================================================================================================================================================================================\n",
            "https://www.sec.gov/Archives/edgar/daily-index/2005/QTR1/master.20050103.idx\n",
            "https://www.sec.gov/Archives/edgar/daily-index/2005/QTR1/master.20050104.idx\n",
            "https://www.sec.gov/Archives/edgar/daily-index/2005/QTR1/master.20050105.idx\n",
            "https://www.sec.gov/Archives/edgar/daily-index/2005/QTR1/master.20050106.idx\n",
            "https://www.sec.gov/Archives/edgar/daily-index/2005/QTR1/master.20050107.idx\n",
            "https://www.sec.gov/Archives/edgar/daily-index/2005/QTR1/master.20050110.idx\n",
            "https://www.sec.gov/Archives/edgar/daily-index/2005/QTR1/master.20050111.idx\n",
            "https://www.sec.gov/Archives/edgar/daily-index/2005/QTR1/master.20050112.idx\n",
            "https://www.sec.gov/Archives/edgar/daily-index/2005/QTR1/master.20050113.idx\n",
            "https://www.sec.gov/Archives/edgar/daily-index/2005/QTR1/master.20050114.idx\n",
            "https://www.sec.gov/Archives/edgar/daily-index/2005/QTR1/master.20050118.idx\n",
            "https://www.sec.gov/Archives/edgar/daily-index/2005/QTR1/master.20050119.idx\n",
            "https://www.sec.gov/Archives/edgar/daily-index/2005/QTR1/master.20050120.idx\n",
            "https://www.sec.gov/Archives/edgar/daily-index/2005/QTR1/master.20050121.idx\n",
            "https://www.sec.gov/Archives/edgar/daily-index/2005/QTR1/master.20050124.idx\n",
            "https://www.sec.gov/Archives/edgar/daily-index/2005/QTR1/master.20050125.idx\n",
            "https://www.sec.gov/Archives/edgar/daily-index/2005/QTR1/master.20050126.idx\n",
            "https://www.sec.gov/Archives/edgar/daily-index/2005/QTR1/master.20050127.idx\n",
            "https://www.sec.gov/Archives/edgar/daily-index/2005/QTR1/master.20050128.idx\n",
            "https://www.sec.gov/Archives/edgar/daily-index/2005/QTR1/master.20050131.idx\n",
            "https://www.sec.gov/Archives/edgar/daily-index/2005/QTR1/master.20050201.idx\n",
            "https://www.sec.gov/Archives/edgar/daily-index/2005/QTR1/master.20050202.idx\n",
            "https://www.sec.gov/Archives/edgar/daily-index/2005/QTR1/master.20050203.idx\n",
            "https://www.sec.gov/Archives/edgar/daily-index/2005/QTR1/master.20050204.idx\n",
            "https://www.sec.gov/Archives/edgar/daily-index/2005/QTR1/master.20050207.idx\n",
            "https://www.sec.gov/Archives/edgar/daily-index/2005/QTR1/master.20050208.idx\n",
            "https://www.sec.gov/Archives/edgar/daily-index/2005/QTR1/master.20050209.idx\n",
            "https://www.sec.gov/Archives/edgar/daily-index/2005/QTR1/master.20050210.idx\n",
            "https://www.sec.gov/Archives/edgar/daily-index/2005/QTR1/master.20050211.idx\n",
            "https://www.sec.gov/Archives/edgar/daily-index/2005/QTR1/master.20050214.idx\n",
            "https://www.sec.gov/Archives/edgar/daily-index/2005/QTR1/master.20050215.idx\n",
            "https://www.sec.gov/Archives/edgar/daily-index/2005/QTR1/master.20050216.idx\n",
            "https://www.sec.gov/Archives/edgar/daily-index/2005/QTR1/master.20050217.idx\n",
            "https://www.sec.gov/Archives/edgar/daily-index/2005/QTR1/master.20050218.idx\n"
          ],
          "name": "stdout"
        }
      ]
    }
  ]
}